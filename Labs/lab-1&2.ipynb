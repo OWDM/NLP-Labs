{
 "cells": [
  {
   "cell_type": "markdown",
   "id": "9776ef60",
   "metadata": {
    "jupyter": {
     "source_hidden": true
    },
    "papermill": {
     "duration": 0.007946,
     "end_time": "2024-02-05T12:26:16.875539",
     "exception": false,
     "start_time": "2024-02-05T12:26:16.867593",
     "status": "completed"
    },
    "tags": []
   },
   "source": [
    "# LAB 1"
   ]
  },
  {
   "cell_type": "code",
   "execution_count": null,
   "id": "109be1f1",
   "metadata": {
    "papermill": {
     "duration": 0.006612,
     "end_time": "2024-02-05T12:26:16.889551",
     "exception": false,
     "start_time": "2024-02-05T12:26:16.882939",
     "status": "completed"
    },
    "tags": []
   },
   "outputs": [],
   "source": []
  },
  {
   "cell_type": "code",
   "execution_count": 1,
   "id": "b14b6a77",
   "metadata": {
    "execution": {
     "iopub.execute_input": "2024-02-05T12:26:16.905749Z",
     "iopub.status.busy": "2024-02-05T12:26:16.905041Z",
     "iopub.status.idle": "2024-02-05T12:26:19.287288Z",
     "shell.execute_reply": "2024-02-05T12:26:19.286069Z"
    },
    "papermill": {
     "duration": 2.394107,
     "end_time": "2024-02-05T12:26:19.290574",
     "exception": false,
     "start_time": "2024-02-05T12:26:16.896467",
     "status": "completed"
    },
    "tags": []
   },
   "outputs": [],
   "source": [
    "import nltk"
   ]
  },
  {
   "cell_type": "code",
   "execution_count": 2,
   "id": "301004e6",
   "metadata": {
    "execution": {
     "iopub.execute_input": "2024-02-05T12:26:19.306762Z",
     "iopub.status.busy": "2024-02-05T12:26:19.306179Z",
     "iopub.status.idle": "2024-02-05T12:26:29.812778Z",
     "shell.execute_reply": "2024-02-05T12:26:29.811062Z"
    },
    "papermill": {
     "duration": 10.518278,
     "end_time": "2024-02-05T12:26:29.815990",
     "exception": false,
     "start_time": "2024-02-05T12:26:19.297712",
     "status": "completed"
    },
    "tags": []
   },
   "outputs": [
    {
     "name": "stdout",
     "output_type": "stream",
     "text": [
      "*** Introductory Examples for the NLTK Book ***\n",
      "Loading text1, ..., text9 and sent1, ..., sent9\n",
      "Type the name of the text or sentence to view it.\n",
      "Type: 'texts()' or 'sents()' to list the materials.\n",
      "text1: Moby Dick by Herman Melville 1851\n",
      "text2: Sense and Sensibility by Jane Austen 1811\n",
      "text3: The Book of Genesis\n",
      "text4: Inaugural Address Corpus\n",
      "text5: Chat Corpus\n",
      "text6: Monty Python and the Holy Grail\n",
      "text7: Wall Street Journal\n",
      "text8: Personals Corpus\n",
      "text9: The Man Who Was Thursday by G . K . Chesterton 1908\n"
     ]
    }
   ],
   "source": [
    "from nltk.book import *"
   ]
  },
  {
   "cell_type": "code",
   "execution_count": 3,
   "id": "4aad0348",
   "metadata": {
    "execution": {
     "iopub.execute_input": "2024-02-05T12:26:29.834295Z",
     "iopub.status.busy": "2024-02-05T12:26:29.833750Z",
     "iopub.status.idle": "2024-02-05T12:26:29.843606Z",
     "shell.execute_reply": "2024-02-05T12:26:29.842329Z"
    },
    "papermill": {
     "duration": 0.022047,
     "end_time": "2024-02-05T12:26:29.846240",
     "exception": false,
     "start_time": "2024-02-05T12:26:29.824193",
     "status": "completed"
    },
    "tags": []
   },
   "outputs": [
    {
     "data": {
      "text/plain": [
       "<Text: Moby Dick by Herman Melville 1851>"
      ]
     },
     "execution_count": 3,
     "metadata": {},
     "output_type": "execute_result"
    }
   ],
   "source": [
    "text1"
   ]
  },
  {
   "cell_type": "markdown",
   "id": "b2ec3c1d",
   "metadata": {
    "papermill": {
     "duration": 0.007809,
     "end_time": "2024-02-05T12:26:29.862309",
     "exception": false,
     "start_time": "2024-02-05T12:26:29.854500",
     "status": "completed"
    },
    "tags": []
   },
   "source": [
    "# LAB 2"
   ]
  },
  {
   "cell_type": "code",
   "execution_count": 4,
   "id": "517463b0",
   "metadata": {
    "execution": {
     "iopub.execute_input": "2024-02-05T12:26:29.883174Z",
     "iopub.status.busy": "2024-02-05T12:26:29.882673Z",
     "iopub.status.idle": "2024-02-05T12:26:30.124889Z",
     "shell.execute_reply": "2024-02-05T12:26:30.123469Z"
    },
    "papermill": {
     "duration": 0.25659,
     "end_time": "2024-02-05T12:26:30.127878",
     "exception": false,
     "start_time": "2024-02-05T12:26:29.871288",
     "status": "completed"
    },
    "tags": []
   },
   "outputs": [
    {
     "name": "stdout",
     "output_type": "stream",
     "text": [
      "Displaying 13 of 13 matches:\n",
      "us an old idolator at heart , he yet lived among these Christians , wore their \n",
      "s dined in the cabin , and nominally lived there ; still , being anything but s\n",
      " might more properly be said to have lived out of the cabin than in it . For wh\n",
      "m , he was still an alien to it . He lived in the world , as the last of the Gr\n",
      "ld , as the last of the Grisly Bears lived in settled Missouri . And as when Sp\n",
      "ng himself in the hollow of a tree , lived out the winter there , sucking his o\n",
      "sun . In the sixth Christian century lived Procopius , a Christian magistrate o\n",
      " be as good as the days that Lazarus lived after his resurrection ; a supplemen\n",
      "e gloomily muttered . \" And you have lived in this world hard upon one hundred \n",
      "ng vessel -- that these men actually lived for several months on the mouldy scr\n",
      "declare to you , that for the time I lived as in a musky meadow ; I forgot all \n",
      "iting mockery of grey hairs , have I lived enough joy to wear ye ; and seem and\n",
      " and keel did point to . The rigging lived . The mast - heads , like the tops o\n"
     ]
    }
   ],
   "source": [
    "text1.concordance(\"lived\")"
   ]
  },
  {
   "cell_type": "code",
   "execution_count": 5,
   "id": "2407f180",
   "metadata": {
    "execution": {
     "iopub.execute_input": "2024-02-05T12:26:30.147115Z",
     "iopub.status.busy": "2024-02-05T12:26:30.145881Z",
     "iopub.status.idle": "2024-02-05T12:26:33.401629Z",
     "shell.execute_reply": "2024-02-05T12:26:33.400151Z"
    },
    "papermill": {
     "duration": 3.268627,
     "end_time": "2024-02-05T12:26:33.404748",
     "exception": false,
     "start_time": "2024-02-05T12:26:30.136121",
     "status": "completed"
    },
    "tags": []
   },
   "outputs": [
    {
     "name": "stdout",
     "output_type": "stream",
     "text": [
      "sailed was all of is alone s could must been thought ye go aloft who\n",
      "had came were sleeps can\n"
     ]
    }
   ],
   "source": [
    "text1.similar(\"lived\")"
   ]
  },
  {
   "cell_type": "code",
   "execution_count": 6,
   "id": "db50b91e",
   "metadata": {
    "execution": {
     "iopub.execute_input": "2024-02-05T12:26:33.423351Z",
     "iopub.status.busy": "2024-02-05T12:26:33.422836Z",
     "iopub.status.idle": "2024-02-05T12:26:33.890992Z",
     "shell.execute_reply": "2024-02-05T12:26:33.889634Z"
    },
    "papermill": {
     "duration": 0.480594,
     "end_time": "2024-02-05T12:26:33.893515",
     "exception": false,
     "start_time": "2024-02-05T12:26:33.412921",
     "status": "completed"
    },
    "tags": []
   },
   "outputs": [
    {
     "data": {
      "image/png": "[encoded data removed]",
      "text/plain": [
       "<Figure size 640x480 with 1 Axes>"
      ]
     },
     "metadata": {},
     "output_type": "display_data"
    }
   ],
   "source": [
    "text4.dispersion_plot([\"citizens\",'democracy','freedom','duties','America'])"
   ]
  },
  {
   "cell_type": "code",
   "execution_count": 7,
   "id": "f7fd980b",
   "metadata": {
    "execution": {
     "iopub.execute_input": "2024-02-05T12:26:33.913919Z",
     "iopub.status.busy": "2024-02-05T12:26:33.912920Z",
     "iopub.status.idle": "2024-02-05T12:26:33.933699Z",
     "shell.execute_reply": "2024-02-05T12:26:33.932784Z"
    },
    "papermill": {
     "duration": 0.033654,
     "end_time": "2024-02-05T12:26:33.936170",
     "exception": false,
     "start_time": "2024-02-05T12:26:33.902516",
     "status": "completed"
    },
    "tags": []
   },
   "outputs": [
    {
     "name": "stdout",
     "output_type": "stream",
     "text": [
      "['Tokenizaztion', 'is', 'the', 'process', 'of', 'transforming', 'the', 'text', 'into', 'a', 'list', 'of', 'words', ',', 'called', 'tokens', '.']\n"
     ]
    }
   ],
   "source": [
    "text='Tokenizaztion is the process of transforming the text into a list of words, called tokens.'\n",
    "tokens= nltk.word_tokenize(text)\n",
    "print(tokens)"
   ]
  },
  {
   "cell_type": "code",
   "execution_count": 8,
   "id": "b763b4d0",
   "metadata": {
    "execution": {
     "iopub.execute_input": "2024-02-05T12:26:33.955990Z",
     "iopub.status.busy": "2024-02-05T12:26:33.955122Z",
     "iopub.status.idle": "2024-02-05T12:26:33.962184Z",
     "shell.execute_reply": "2024-02-05T12:26:33.961031Z"
    },
    "papermill": {
     "duration": 0.020288,
     "end_time": "2024-02-05T12:26:33.965375",
     "exception": false,
     "start_time": "2024-02-05T12:26:33.945087",
     "status": "completed"
    },
    "tags": []
   },
   "outputs": [
    {
     "data": {
      "text/plain": [
       "17"
      ]
     },
     "execution_count": 8,
     "metadata": {},
     "output_type": "execute_result"
    }
   ],
   "source": [
    "len(tokens)"
   ]
  },
  {
   "cell_type": "code",
   "execution_count": 9,
   "id": "421820bb",
   "metadata": {
    "execution": {
     "iopub.execute_input": "2024-02-05T12:26:33.985695Z",
     "iopub.status.busy": "2024-02-05T12:26:33.984697Z",
     "iopub.status.idle": "2024-02-05T12:26:33.992235Z",
     "shell.execute_reply": "2024-02-05T12:26:33.991119Z"
    },
    "papermill": {
     "duration": 0.020822,
     "end_time": "2024-02-05T12:26:33.995016",
     "exception": false,
     "start_time": "2024-02-05T12:26:33.974194",
     "status": "completed"
    },
    "tags": []
   },
   "outputs": [
    {
     "data": {
      "text/plain": [
       "['Tokenizaztion', 'is', 'the']"
      ]
     },
     "execution_count": 9,
     "metadata": {},
     "output_type": "execute_result"
    }
   ],
   "source": [
    "tokens[:3]"
   ]
  },
  {
   "cell_type": "code",
   "execution_count": 10,
   "id": "fa3bd6ed",
   "metadata": {
    "execution": {
     "iopub.execute_input": "2024-02-05T12:26:34.017156Z",
     "iopub.status.busy": "2024-02-05T12:26:34.016655Z",
     "iopub.status.idle": "2024-02-05T12:26:34.025509Z",
     "shell.execute_reply": "2024-02-05T12:26:34.024330Z"
    },
    "papermill": {
     "duration": 0.022661,
     "end_time": "2024-02-05T12:26:34.028071",
     "exception": false,
     "start_time": "2024-02-05T12:26:34.005410",
     "status": "completed"
    },
    "tags": []
   },
   "outputs": [
    {
     "data": {
      "text/plain": [
       "['tokenizazt',\n",
       " 'is',\n",
       " 'the',\n",
       " 'process',\n",
       " 'of',\n",
       " 'transform',\n",
       " 'the',\n",
       " 'text',\n",
       " 'into',\n",
       " 'a',\n",
       " 'list',\n",
       " 'of',\n",
       " 'word',\n",
       " ',',\n",
       " 'call',\n",
       " 'token',\n",
       " '.']"
      ]
     },
     "execution_count": 10,
     "metadata": {},
     "output_type": "execute_result"
    }
   ],
   "source": [
    "porter = nltk.PorterStemmer()\n",
    "[porter.stem(t) for t in tokens]"
   ]
  },
  {
   "cell_type": "code",
   "execution_count": 11,
   "id": "e57052a3",
   "metadata": {
    "execution": {
     "iopub.execute_input": "2024-02-05T12:26:34.049114Z",
     "iopub.status.busy": "2024-02-05T12:26:34.048633Z",
     "iopub.status.idle": "2024-02-05T12:26:52.112434Z",
     "shell.execute_reply": "2024-02-05T12:26:52.111041Z"
    },
    "papermill": {
     "duration": 18.07864,
     "end_time": "2024-02-05T12:26:52.115865",
     "exception": false,
     "start_time": "2024-02-05T12:26:34.037225",
     "status": "completed"
    },
    "tags": []
   },
   "outputs": [
    {
     "name": "stdout",
     "output_type": "stream",
     "text": [
      "Collecting Tashaphyne\r\n",
      "  Downloading Tashaphyne-0.3.6-py3-none-any.whl (251 kB)\r\n",
      "\u001b[2K     \u001b[90m━━━━━━━━━━━━━━━━━━━━━━━━━━━━━━━━━━━━━━━\u001b[0m \u001b[32m251.5/251.5 kB\u001b[0m \u001b[31m3.8 MB/s\u001b[0m eta \u001b[36m0:00:00\u001b[0m\r\n",
      "\u001b[?25hRequirement already satisfied: pyarabic in /opt/conda/lib/python3.10/site-packages (from Tashaphyne) (0.6.15)\r\n",
      "Requirement already satisfied: six>=1.14.0 in /opt/conda/lib/python3.10/site-packages (from pyarabic->Tashaphyne) (1.16.0)\r\n",
      "Installing collected packages: Tashaphyne\r\n",
      "Successfully installed Tashaphyne-0.3.6\r\n"
     ]
    }
   ],
   "source": [
    "!pip install Tashaphyne"
   ]
  },
  {
   "cell_type": "code",
   "execution_count": 12,
   "id": "61dc2d71",
   "metadata": {
    "execution": {
     "iopub.execute_input": "2024-02-05T12:26:52.138111Z",
     "iopub.status.busy": "2024-02-05T12:26:52.137583Z",
     "iopub.status.idle": "2024-02-05T12:26:52.278514Z",
     "shell.execute_reply": "2024-02-05T12:26:52.277214Z"
    },
    "papermill": {
     "duration": 0.1558,
     "end_time": "2024-02-05T12:26:52.281686",
     "exception": false,
     "start_time": "2024-02-05T12:26:52.125886",
     "status": "completed"
    },
    "tags": []
   },
   "outputs": [],
   "source": [
    "from tashaphyne.stemming import ArabicLightStemmer\n",
    "ArListem = ArabicLightStemmer()"
   ]
  },
  {
   "cell_type": "code",
   "execution_count": 13,
   "id": "9d90e0aa",
   "metadata": {
    "execution": {
     "iopub.execute_input": "2024-02-05T12:26:52.303709Z",
     "iopub.status.busy": "2024-02-05T12:26:52.303211Z",
     "iopub.status.idle": "2024-02-05T12:26:52.312939Z",
     "shell.execute_reply": "2024-02-05T12:26:52.311730Z"
    },
    "papermill": {
     "duration": 0.023958,
     "end_time": "2024-02-05T12:26:52.315574",
     "exception": false,
     "start_time": "2024-02-05T12:26:52.291616",
     "status": "completed"
    },
    "tags": []
   },
   "outputs": [
    {
     "name": "stdout",
     "output_type": "stream",
     "text": [
      "ضارب\n"
     ]
    }
   ],
   "source": [
    "word ='أفتضاربانني'\n",
    "stem = ArListem.light_stem(word)\n",
    "print(ArListem.get_stem())"
   ]
  },
  {
   "cell_type": "code",
   "execution_count": 14,
   "id": "5a794502",
   "metadata": {
    "execution": {
     "iopub.execute_input": "2024-02-05T12:26:52.338810Z",
     "iopub.status.busy": "2024-02-05T12:26:52.337477Z",
     "iopub.status.idle": "2024-02-05T12:26:52.346566Z",
     "shell.execute_reply": "2024-02-05T12:26:52.345240Z"
    },
    "papermill": {
     "duration": 0.024131,
     "end_time": "2024-02-05T12:26:52.349749",
     "exception": false,
     "start_time": "2024-02-05T12:26:52.325618",
     "status": "completed"
    },
    "tags": []
   },
   "outputs": [
    {
     "name": "stdout",
     "output_type": "stream",
     "text": [
      "ضرب\n"
     ]
    }
   ],
   "source": [
    "print(ArListem.get_root())"
   ]
  },
  {
   "cell_type": "code",
   "execution_count": 15,
   "id": "0a2ea1b0",
   "metadata": {
    "execution": {
     "iopub.execute_input": "2024-02-05T12:26:52.372353Z",
     "iopub.status.busy": "2024-02-05T12:26:52.371857Z",
     "iopub.status.idle": "2024-02-05T12:26:52.377896Z",
     "shell.execute_reply": "2024-02-05T12:26:52.376623Z"
    },
    "papermill": {
     "duration": 0.021074,
     "end_time": "2024-02-05T12:26:52.380868",
     "exception": false,
     "start_time": "2024-02-05T12:26:52.359794",
     "status": "completed"
    },
    "tags": []
   },
   "outputs": [
    {
     "name": "stdout",
     "output_type": "stream",
     "text": [
      "أفت\n"
     ]
    }
   ],
   "source": [
    "print(ArListem.get_prefix())"
   ]
  },
  {
   "cell_type": "code",
   "execution_count": 16,
   "id": "8c685f3a",
   "metadata": {
    "execution": {
     "iopub.execute_input": "2024-02-05T12:26:52.403787Z",
     "iopub.status.busy": "2024-02-05T12:26:52.403285Z",
     "iopub.status.idle": "2024-02-05T12:26:52.409373Z",
     "shell.execute_reply": "2024-02-05T12:26:52.408229Z"
    },
    "papermill": {
     "duration": 0.020273,
     "end_time": "2024-02-05T12:26:52.411676",
     "exception": false,
     "start_time": "2024-02-05T12:26:52.391403",
     "status": "completed"
    },
    "tags": []
   },
   "outputs": [
    {
     "name": "stdout",
     "output_type": "stream",
     "text": [
      "انني\n"
     ]
    }
   ],
   "source": [
    "print(ArListem.get_suffix())"
   ]
  },
  {
   "cell_type": "code",
   "execution_count": null,
   "id": "7ad0083e",
   "metadata": {
    "papermill": {
     "duration": 0.009818,
     "end_time": "2024-02-05T12:26:52.431715",
     "exception": false,
     "start_time": "2024-02-05T12:26:52.421897",
     "status": "completed"
    },
    "tags": []
   },
   "outputs": [],
   "source": []
  }
 ],
 "metadata": {
  "kaggle": {
   "accelerator": "none",
   "dataSources": [],
   "dockerImageVersionId": 30646,
   "isGpuEnabled": false,
   "isInternetEnabled": true,
   "language": "python",
   "sourceType": "notebook"
  },
  "kernelspec": {
   "display_name": "Python 3",
   "language": "python",
   "name": "python3"
  },
  "language_info": {
   "codemirror_mode": {
    "name": "ipython",
    "version": 3
   },
   "file_extension": ".py",
   "mimetype": "text/x-python",
   "name": "python",
   "nbconvert_exporter": "python",
   "pygments_lexer": "ipython3",
   "version": "3.10.13"
  },
  "papermill": {
   "default_parameters": {},
   "duration": 41.289213,
   "end_time": "2024-02-05T12:26:54.811020",
   "environment_variables": {},
   "exception": null,
   "input_path": "__notebook__.ipynb",
   "output_path": "__notebook__.ipynb",
   "parameters": {},
   "start_time": "2024-02-05T12:26:13.521807",
   "version": "2.5.0"
  }
 },
 "nbformat": 4,
 "nbformat_minor": 5
}
